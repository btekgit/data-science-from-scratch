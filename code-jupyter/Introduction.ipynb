{
 "cells": [
  {
   "cell_type": "code",
   "execution_count": null,
   "metadata": {},
   "outputs": [],
   "source": [
    "print(\"Hello. Wellcome to CSE485 Course on Data Mining\")\n",
    "print(\"We will use Joel Grus textbook \\\"Data Science from Scratch\\\" and code for the course\")\n",
    "print(\"This notebook is prepared by F. Boray Tek, Isik University, Dept.Of. Computer Engineering\")"
   ]
  },
  {
   "cell_type": "markdown",
   "metadata": {},
   "source": [
    "  ### To start this notebook I have done the following steps\n",
    "\n",
    " 1. I installed miniconda in my computer\n",
    " 2. I created an environment with \n",
    " conda create -n datamin (name for my environment)\n",
    " 3. I installed jupyter package with  \n",
    " conda install jupyter \n",
    " 4. I installed numpy package with \n",
    " conda install numpy\n",
    " 4. I start a jupyter notebook\n"
   ]
  },
  {
   "cell_type": "markdown",
   "metadata": {},
   "source": [
    "## This code is purely introductional, it is ok if you are new to PYTHON and do not understand it completely. We will go over PYTHON in the upcoming lectures."
   ]
  },
  {
   "cell_type": "code",
   "execution_count": 1,
   "metadata": {},
   "outputs": [],
   "source": [
    "# Lets start by importing a graphic plotting lib\n",
    "from matplotlib import pyplot as plt\n",
    "# I get an error here .. so I installed the module usign conda \n",
    "#---------------------------------------------------------------------------\n",
    "#ModuleNotFoundError                       Traceback (most recent call last)\n",
    "#<ipython-input-5-123f929ea9e1> in <module>\n",
    "#      1 # Lets start by importing a graphic library\n",
    "#----> 2 from matplotlib import pyplot as plt\n",
    "#\n",
    "#ModuleNotFoundError: No module named 'matplotlib'\n",
    "\n",
    "# below is to change the behaviour of jupyter\n",
    "from IPython.core.interactiveshell import InteractiveShell\n",
    "InteractiveShell.ast_node_interactivity = \"all\""
   ]
  },
  {
   "cell_type": "markdown",
   "metadata": {},
   "source": [
    "## this introduction is about users (data-scientists) their relationship and their interests\n",
    "# start by defining data"
   ]
  },
  {
   "cell_type": "code",
   "execution_count": 2,
   "metadata": {},
   "outputs": [],
   "source": [
    "## this introduction is about users (data-scientists) their relationship and their interests\n",
    "# start by defining data\n",
    "\n",
    "users = [\n",
    "    { \"id\": 0, \"name\": \"Hero\" },\n",
    "    { \"id\": 1, \"name\": \"Dunn\" },\n",
    "    { \"id\": 2, \"name\": \"Sue\" },\n",
    "    { \"id\": 3, \"name\": \"Chi\" },\n",
    "    { \"id\": 4, \"name\": \"Thor\" },\n",
    "    { \"id\": 5, \"name\": \"Clive\" },\n",
    "    { \"id\": 6, \"name\": \"Hicks\" },\n",
    "    { \"id\": 7, \"name\": \"Devin\" },\n",
    "    { \"id\": 8, \"name\": \"Kate\" },\n",
    "    { \"id\": 9, \"name\": \"Klein\" },\n",
    "    { \"id\": 10, \"name\": \"Jen\" }\n",
    "]\n",
    "\n",
    "# list of friendship connections between users given by (id1, id2) pairs\n",
    "friendships = [(0, 1), (0, 2), (1, 2), (1, 3), (2, 3), (3, 4),\n",
    "               (4, 5), (5, 6), (5, 7), (6, 8), (7, 8), (8, 9)]\n",
    "\n",
    "# list of interests for users (id, interest) pairs\n",
    "interests = [\n",
    "    (0, \"Hadoop\"), (0, \"Big Data\"), (0, \"HBase\"), (0, \"Java\"),\n",
    "    (0, \"Spark\"), (0, \"Storm\"), (0, \"Cassandra\"),\n",
    "    (1, \"NoSQL\"), (1, \"MongoDB\"), (1, \"Cassandra\"), (1, \"HBase\"),\n",
    "    (1, \"Postgres\"), (2, \"Python\"), (2, \"scikit-learn\"), (2, \"scipy\"),\n",
    "    (2, \"numpy\"), (2, \"statsmodels\"), (2, \"pandas\"), (3, \"R\"), (3, \"Python\"),\n",
    "    (3, \"statistics\"), (3, \"regression\"), (3, \"probability\"),\n",
    "    (4, \"machine learning\"), (4, \"regression\"), (4, \"decision trees\"),\n",
    "    (4, \"libsvm\"), (5, \"Python\"), (5, \"R\"), (5, \"Java\"), (5, \"C++\"),\n",
    "    (5, \"Haskell\"), (5, \"programming languages\"), (6, \"statistics\"),\n",
    "    (6, \"probability\"), (6, \"mathematics\"), (6, \"theory\"),\n",
    "    (7, \"machine learning\"), (7, \"scikit-learn\"), (7, \"Mahout\"),\n",
    "    (7, \"neural networks\"), (8, \"neural networks\"), (8, \"deep learning\"),\n",
    "    (8, \"Big Data\"), (8, \"artificial intelligence\"), (9, \"Hadoop\"),\n",
    "    (9, \"Java\"), (9, \"MapReduce\"), (9, \"Big Data\")\n",
    "]"
   ]
  },
  {
   "cell_type": "code",
   "execution_count": 3,
   "metadata": {},
   "outputs": [
    {
     "name": "stdout",
     "output_type": "stream",
     "text": [
      "[{'id': 0, 'name': 'Hero'}, {'id': 1, 'name': 'Dunn'}, {'id': 2, 'name': 'Sue'}, {'id': 3, 'name': 'Chi'}, {'id': 4, 'name': 'Thor'}, {'id': 5, 'name': 'Clive'}, {'id': 6, 'name': 'Hicks'}, {'id': 7, 'name': 'Devin'}, {'id': 8, 'name': 'Kate'}, {'id': 9, 'name': 'Klein'}, {'id': 10, 'name': 'Jen'}]\n",
      "(0, 1)\n"
     ]
    }
   ],
   "source": [
    "print(users)# or just users\n",
    "print(friendships[0])"
   ]
  },
  {
   "cell_type": "code",
   "execution_count": 4,
   "metadata": {},
   "outputs": [
    {
     "name": "stdout",
     "output_type": "stream",
     "text": [
      "1\n",
      "2\n",
      "3\n",
      "3\n",
      "4\n",
      "5\n",
      "18\n",
      "18\n"
     ]
    }
   ],
   "source": [
    "xlist = [1,2,3,3,4,5]\n",
    "for x in xlist:\n",
    "    print(x)\n",
    "    \n",
    "s = 0\n",
    "for x in xlist:\n",
    "    s+=x\n",
    "print(s)\n",
    "\n",
    "s = sum(xlist) # same as above shorter\n",
    "print(s)\n"
   ]
  },
  {
   "cell_type": "code",
   "execution_count": 6,
   "metadata": {},
   "outputs": [
    {
     "name": "stdout",
     "output_type": "stream",
     "text": [
      "{'id': 0, 'name': 'Hero', 'friends': []}\n",
      "0 1\n",
      "0 2\n",
      "1 2\n",
      "1 3\n",
      "2 3\n",
      "3 4\n",
      "4 5\n",
      "5 6\n",
      "5 7\n",
      "6 8\n",
      "7 8\n",
      "8 9\n"
     ]
    }
   ],
   "source": [
    "\n",
    "\n",
    "# first give each user an empty list\n",
    "for user in users:\n",
    "    user[\"friends\"] = []\n",
    "\n",
    "print(users[0])\n",
    "\n",
    "for i, j in friendships:\n",
    "    print(i,j)\n"
   ]
  },
  {
   "cell_type": "code",
   "execution_count": 7,
   "metadata": {},
   "outputs": [
    {
     "name": "stdout",
     "output_type": "stream",
     "text": [
      "0 , Hero , [1, 2]\n",
      "1 , Dunn , [0, 2, 3]\n",
      "2 , Sue , [0, 1, 3]\n",
      "3 , Chi , [1, 2, 4]\n",
      "4 , Thor , [3, 5]\n",
      "5 , Clive , [4, 6, 7]\n",
      "6 , Hicks , [5, 8]\n",
      "7 , Devin , [5, 8]\n",
      "8 , Kate , [6, 7, 9]\n",
      "9 , Klein , [8]\n",
      "10 , Jen , []\n"
     ]
    }
   ],
   "source": [
    "# and then populate the lists with friendships\n",
    "for i, j in friendships:\n",
    "    # this works because users[i] is the user whose id is i\n",
    "    users[i][\"friends\"].append(users[j][\"id\"]) # add i as a friend of j\n",
    "    users[j][\"friends\"].append(users[i][\"id\"]) # add j as a friend of i\n",
    "  \n",
    "# the book appends user references directly that complicates everything...\n",
    "# so I do not do it. \n",
    "# print(users[0]) # this prints ugly because it prints RECURSIVELY friends of friends ...!\n",
    "\n",
    "for u in users:\n",
    "    print(u[\"id\"], \",\", u[\"name\"], \",\", u[\"friends\"])"
   ]
  },
  {
   "cell_type": "code",
   "execution_count": 9,
   "metadata": {},
   "outputs": [],
   "source": [
    "def number_of_friends(user):\n",
    "    \"\"\"how many friends does _user_ have?\"\"\"\n",
    "    return len(user[\"friends\"]) # length of friend_ids list\n",
    "\n",
    "# sum number  of friends for each user \n",
    "total_connections = sum(number_of_friends(user) for user in users)\n",
    "assert(total_connections==len(friendships)*2) # must be two times of friendshiprs\n",
    "num_users = len(users)\n",
    "avg_connections = total_connections / num_users # 2.4"
   ]
  },
  {
   "cell_type": "code",
   "execution_count": 10,
   "metadata": {},
   "outputs": [
    {
     "name": "stdout",
     "output_type": "stream",
     "text": [
      "Variable            Type             Data/Info\n",
      "----------------------------------------------\n",
      "InteractiveShell    MetaHasTraits    <class 'IPython.core.inte<...>eshell.InteractiveShell'>\n",
      "avg_connections     float            2.1818181818181817\n",
      "friendships         list             n=12\n",
      "i                   int              8\n",
      "interests           list             n=49\n",
      "j                   int              9\n",
      "num_users           int              11\n",
      "number_of_friends   function         <function number_of_friends at 0x7f9ae6bc97b8>\n",
      "plt                 module           <module 'matplotlib.pyplo<...>es/matplotlib/pyplot.py'>\n",
      "s                   int              18\n",
      "total_connections   int              24\n",
      "u                   dict             n=3\n",
      "user                dict             n=3\n",
      "users               list             n=11\n",
      "x                   int              5\n",
      "xlist               list             n=6\n"
     ]
    }
   ],
   "source": [
    "# this is a magic command to print all variables\n",
    "%whos  "
   ]
  },
  {
   "cell_type": "code",
   "execution_count": 11,
   "metadata": {},
   "outputs": [
    {
     "name": "stdout",
     "output_type": "stream",
     "text": [
      "[(0, 2), (1, 3), (2, 3), (3, 3), (4, 2), (5, 3), (6, 2), (7, 2), (8, 3), (9, 1), (10, 0)]\n",
      "1 . Dunn  #friends: 3\n",
      "2 . Sue  #friends: 3\n",
      "3 . Chi  #friends: 3\n",
      "5 . Clive  #friends: 3\n",
      "8 . Kate  #friends: 3\n",
      "0 . Hero  #friends: 2\n",
      "4 . Thor  #friends: 2\n",
      "6 . Hicks  #friends: 2\n",
      "7 . Devin  #friends: 2\n",
      "9 . Klein  #friends: 1\n",
      "10 . Jen  #friends: 0\n"
     ]
    }
   ],
   "source": [
    "# find the most connected people, sort for number of friends\n",
    "\n",
    "# create a list (user_id, number_of_friends)\n",
    "num_friends_by_id = [(user[\"id\"], number_of_friends(user)) \n",
    "                     for user in users]\n",
    "print(num_friends_by_id)\n",
    "\n",
    "sort_by_num_friends = sorted(num_friends_by_id,                                # get it sorted\n",
    "                             key=lambda a: a[1],   # by num_friends\n",
    "                             reverse=True)                                     # decreasing order\n",
    "\n",
    "for u,n in sort_by_num_friends:\n",
    "    print(u, \".\", users[u]['name'], \" #friends:\",n)\n",
    "# each pair is (user_id, num_friends)\n",
    "# [(1, 3), (2, 3), (3, 3), (5, 3), (8, 3),\n",
    "#  (0, 2), (4, 2), (6, 2), (7, 2), (9, 1)]"
   ]
  },
  {
   "cell_type": "markdown",
   "metadata": {},
   "source": [
    "### Friend suggester (friends of friends is a good starting point)"
   ]
  },
  {
   "cell_type": "code",
   "execution_count": 12,
   "metadata": {},
   "outputs": [
    {
     "name": "stdout",
     "output_type": "stream",
     "text": [
      "{'id': 0, 'name': 'Hero', 'friends': [1, 2]}\n",
      "Suggested friends for user 1: [3]\n"
     ]
    }
   ],
   "source": [
    "# friends of friends for given user \n",
    "def friends_of_friend_ids_degree1(user):\n",
    "    # \"foaf\" is short for \"friend of a friend\"\n",
    "    foaf_list= []\n",
    "    for friend in user[\"friends\"]:     # for each of user's friends\n",
    "        foafs = users[friend][\"friends\"]\n",
    "        for f in foafs:\n",
    "            if f not in user[\"friends\"] and f not in foaf_list and f!=user[\"id\"]: \n",
    "                foaf_list.append(f)    # get each of _their_ friends\n",
    "    return foaf_list\n",
    "\n",
    "## to find RECURSIVE CONNECTIONS  requires a DEPTH FIRST SEARCH\n",
    "\n",
    "print(users[0])\n",
    "print(\"Suggested friends for user 1:\", friends_of_friend_ids_degree1(users[0])) "
   ]
  },
  {
   "cell_type": "code",
   "execution_count": null,
   "metadata": {},
   "outputs": [],
   "source": [
    "\n",
    "\n",
    "from collections import Counter # not loaded by default\n",
    "\n",
    "def not_the_same(user, other_user):\n",
    "    \"\"\"two users are not the same if they have different ids\"\"\"\n",
    "    #print(user,\"other:\", other_user)\n",
    "    return user[\"id\"] != other_user[\"id\"]\n",
    "\n",
    "def not_friends(user, other_user):\n",
    "    \"\"\"other_user is not a friend if he's not in user[\"friends\"];\n",
    "    that is, if he's not_the_same as all the people in user[\"friends\"]\"\"\"\n",
    "    return all(not_the_same(users[friend], other_user)\n",
    "               for friend in user[\"friends\"])\n",
    "\n",
    "def count_mutual_friends(user):\n",
    "    return Counter(foaf\n",
    "                   for friend in user[\"friends\"]  # for each of my friends\n",
    "                   for foaf in users[friend][\"friends\"]  # count *their* friends\n",
    "                   if not_the_same(user, users[foaf])    # who aren't me\n",
    "                   and not_friends(user, users[foaf]))   # and aren't my friends\n",
    "\n",
    "print(count_mutual_friends(users[0]))\n",
    "print(count_mutual_friends(users[1]))\n",
    "print(count_mutual_friends(users[3]))"
   ]
  },
  {
   "cell_type": "markdown",
   "metadata": {},
   "source": [
    "## Interests"
   ]
  },
  {
   "cell_type": "code",
   "execution_count": 13,
   "metadata": {},
   "outputs": [
    {
     "name": "stdout",
     "output_type": "stream",
     "text": [
      "Data scientists who like Hadoop: [0, 9]\n",
      "Seeing interests of user ids: [1, 2, 3]\n",
      "Suggest interests for user 0 : [['NoSQL', 'MongoDB', 'Cassandra', 'HBase', 'Postgres'], ['Python', 'scikit-learn', 'scipy', 'numpy', 'statsmodels', 'pandas'], ['R', 'Python', 'statistics', 'regression', 'probability']]\n"
     ]
    }
   ],
   "source": [
    "# search user ids of a given interest\n",
    "def data_scientists_who_like(target_interest):\n",
    "    return [user_id\n",
    "            for user_id, user_interest in interests\n",
    "            if user_interest == target_interest]\n",
    "\n",
    "from collections import defaultdict\n",
    "\n",
    "# keys are interests, values are lists of user_ids with that interest\n",
    "user_ids_by_interest = defaultdict(list)\n",
    "\n",
    "for user_id, interest in interests:\n",
    "    user_ids_by_interest[interest].append(user_id)\n",
    "\n",
    "# keys are user_ids, values are lists of interests for that user_id\n",
    "interests_by_user_id = defaultdict(list)\n",
    "\n",
    "\n",
    "for user_id, interest in interests:\n",
    "    interests_by_user_id[user_id].append(interest)\n",
    "\n",
    "def most_common_interests_with(user_id):\n",
    "    return Counter(interested_user_id\n",
    "        for interest in interests_by_user_id[\"user_id\"]\n",
    "        for interested_user_id in user_ids_by_interest[interest]\n",
    "        if interested_user_id != user_id)\n",
    "\n",
    "def suggest_interest_for_user(user_id):\n",
    "    fls = users[user_id][\"friends\"]    \n",
    "    fls = fls+ friends_of_friend_ids_degree1(users[user_id])\n",
    "    print(\"Seeing interests of user ids:\",fls)\n",
    "    suggestions = []\n",
    "    for f in fls:\n",
    "        suggestions.append(interests_by_user_id[f])\n",
    "    return suggestions\n",
    "    \n",
    "print(\"Data scientists who like Hadoop:\", data_scientists_who_like(\"Hadoop\"))\n",
    "print(\"Suggest interests for user 0 :\", suggest_interest_for_user(0))\n",
    "\n",
    "\n",
    "\n"
   ]
  },
  {
   "cell_type": "code",
   "execution_count": null,
   "metadata": {},
   "outputs": [],
   "source": [
    "######################\n",
    "#                    #\n",
    "# TOPICS OF INTEREST #\n",
    "#                    #\n",
    "######################\n",
    "\n",
    "words_and_counts = Counter(word\n",
    "                           for user, interest in interests\n",
    "                           for word in interest.lower().split())\n",
    "\n",
    "\n",
    "for word, count in words_and_counts.most_common():\n",
    "    if count > 1:\n",
    "        print(word, count)\n"
   ]
  },
  {
   "cell_type": "code",
   "execution_count": null,
   "metadata": {},
   "outputs": [],
   "source": [
    "###########################\n",
    "#                         #\n",
    "# SALARIES AND EXPERIENCE #\n",
    "#                         #\n",
    "###########################\n",
    "\n",
    "salaries_and_tenures = [(83000, 8.7), (88000, 8.1),\n",
    "                        (48000, 0.7), (76000, 6),\n",
    "                        (69000, 6.5), (76000, 7.5),\n",
    "                        (60000, 2.5), (83000, 10),\n",
    "                        (48000, 1.9), (63000, 4.2)]\n",
    "\n",
    "def make_chart_salaries_by_tenure():\n",
    "    tenures = [tenure for salary, tenure in salaries_and_tenures]\n",
    "    salaries = [salary for salary, tenure in salaries_and_tenures]\n",
    "    plt.scatter(tenures, salaries)\n",
    "    plt.xlabel(\"Years Experience\")\n",
    "    plt.ylabel(\"Salary\")\n",
    "    plt.show()\n",
    "\n",
    "    \n",
    "# keys are years\n",
    "# values are the salaries for each tenure\n",
    "salary_by_tenure = defaultdict(list)\n",
    "\n",
    "for salary, tenure in salaries_and_tenures:\n",
    "    salary_by_tenure[tenure].append(salary)\n",
    "\n",
    "average_salary_by_tenure = {\n",
    "    tenure : sum(salaries) / len(salaries)\n",
    "    for tenure, salaries in salary_by_tenure.items()\n",
    "}\n",
    "\n",
    "def tenure_bucket(tenure):\n",
    "    if tenure < 2: return \"less than two\"\n",
    "    elif tenure < 5: return \"between two and five\"\n",
    "    else: return \"more than five\"\n",
    "\n",
    "salary_by_tenure_bucket = defaultdict(list)\n",
    "\n",
    "for salary, tenure in salaries_and_tenures:\n",
    "    bucket = tenure_bucket(tenure)\n",
    "    salary_by_tenure_bucket[bucket].append(salary)\n",
    "\n",
    "average_salary_by_bucket = {\n",
    "  tenure_bucket : sum(salaries) / len(salaries)\n",
    "  for tenure_bucket, salaries in salary_by_tenure_bucket.items()\n",
    "}\n",
    "\n",
    "\n",
    "make_chart_salaries_by_tenure()\n",
    "print(\"average salary by tenure\", average_salary_by_tenure)\n",
    "print(\"average salary by tenure bucket\", average_salary_by_bucket)\n",
    "\n",
    "\n"
   ]
  },
  {
   "cell_type": "code",
   "execution_count": null,
   "metadata": {},
   "outputs": [],
   "source": [
    "salary"
   ]
  },
  {
   "cell_type": "code",
   "execution_count": null,
   "metadata": {},
   "outputs": [],
   "source": []
  }
 ],
 "metadata": {
  "kernelspec": {
   "display_name": "Python 3",
   "language": "python",
   "name": "python3"
  },
  "language_info": {
   "codemirror_mode": {
    "name": "ipython",
    "version": 3
   },
   "file_extension": ".py",
   "mimetype": "text/x-python",
   "name": "python",
   "nbconvert_exporter": "python",
   "pygments_lexer": "ipython3",
   "version": "3.7.2"
  }
 },
 "nbformat": 4,
 "nbformat_minor": 2
}
