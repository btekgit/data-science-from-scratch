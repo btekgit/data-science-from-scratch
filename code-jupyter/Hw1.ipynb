{
 "cells": [
  {
   "cell_type": "markdown",
   "metadata": {},
   "source": [
    "HW0 Spring 2019"
   ]
  },
  {
   "cell_type": "markdown",
   "metadata": {},
   "source": [
    "1. Write a program to find the mean of elements in a list\n",
    "\t-write this in one line."
   ]
  },
  {
   "cell_type": "code",
   "execution_count": null,
   "metadata": {},
   "outputs": [],
   "source": [
    "ex_list = [1,2,3,4,5]\n",
    "print(sm/e)\n",
    "print(ex_list)\n",
    "print(\"mean:\", sum(ex_list)/len(ex_list))\n",
    "from statistics import mean\n",
    "print(mean(ex_list))\n",
    "from functools import reduce\n",
    "o = reduce(lambda a,b:a+b,ex_list)/ len(ex_list)\n",
    "print(o)"
   ]
  },
  {
   "cell_type": "markdown",
   "metadata": {},
   "source": [
    "2. Write the python statements to count the number 4 in a given list.\n",
    "\t-write this in one line."
   ]
  },
  {
   "cell_type": "code",
   "execution_count": null,
   "metadata": {},
   "outputs": [],
   "source": [
    "print(ex_list.count(24))\n",
    "print(len([x for x in ex_list if x==4]))"
   ]
  },
  {
   "cell_type": "markdown",
   "metadata": {},
   "source": [
    "3. Write a program to count lower case letters in a given string. \n",
    "\t-write this in one line.\n"
   ]
  },
  {
   "cell_type": "code",
   "execution_count": null,
   "metadata": {},
   "outputs": [],
   "source": [
    "s = \"I love Datamining!\"\n",
    "lowers =[]\n",
    "for c in s:\n",
    "    if str.islower(c):\n",
    "        lowers.append(c)\n",
    "\n",
    "lowers = [c for c in s if str.islower(c)]\n",
    "\n",
    "\n",
    "print(lowers)\n",
    "print(len(lowers))\n"
   ]
  },
  {
   "cell_type": "markdown",
   "metadata": {},
   "source": [
    "4. In  a given list find two values which are the closest\n",
    "\n",
    "[1,21,19,15,36,44,32,21,0]\n",
    "\n",
    "Use sorted and\n",
    "one way doing this shortly is two use sorted, min, abs methods and list creation"
   ]
  },
  {
   "cell_type": "code",
   "execution_count": null,
   "metadata": {},
   "outputs": [],
   "source": [
    "c =[1,21,19,15,36,44,32,21,0]\n",
    "diffmin = max(c)\n",
    "for i in range(len(c)):\n",
    "    for j in range(i+1,len(c)):\n",
    "        if(abs(c[i]-c[j]) < diffmin):\n",
    "            diffmin = abs(c[i]-c[j]) \n",
    "print(\"diffmin: \",diffmin)\n",
    "    \n",
    "\n",
    "c =[1,21,19,15,36,44,32,21,0]\n",
    "d = sorted(c)\n",
    "print(d)\n",
    "diffs = [abs(d[i]-d[i+1]) for i in range(len(d)-1)]\n",
    "print(diffs)\n",
    "mindiff = min(diffs)\n",
    "minix = diffs.index(mindiff)\n",
    "print(\"mindiff:\",mindiff)\n",
    "print(\"mindiff index:\",minix)"
   ]
  },
  {
   "cell_type": "markdown",
   "metadata": {},
   "source": [
    "5. See the examples of python “zip”. Given two lists a and b generate the third which is formed of sum of elements in a * with elements of b in one single line. \n",
    "\n",
    "a = [1,2,3]\n",
    "b = [1,0,4]\n",
    "c = [-1, -1, -1, 3]\n"
   ]
  },
  {
   "cell_type": "code",
   "execution_count": null,
   "metadata": {},
   "outputs": [],
   "source": [
    "a_list = [1,2,3]\n",
    "b_list = [1,0,4]\n",
    "c_list = [-1, -1, -1, 3]\n",
    "\n",
    "sm  = [a+b for (a,b) in zip(a_list,b_list)]\n",
    "print(sm)\n",
    "\n",
    "sm2  = [a+c for (a,c) in zip(a_list,c_list)]\n",
    "print(sm2)\n"
   ]
  },
  {
   "cell_type": "markdown",
   "metadata": {},
   "source": [
    "6.Write the statements to get the top three items in a shop. \n",
    "Sample data: {'apple': 5.50, 'orange':3.0, 'tomato': 4.13, 'banana':11, 'pepper': 2.4}\n",
    "Expected Output: \n",
    "\n",
    "Banana 11\n",
    "Apple 5.50\n",
    "Tomato 4.13"
   ]
  },
  {
   "cell_type": "code",
   "execution_count": null,
   "metadata": {},
   "outputs": [],
   "source": [
    "samp= {'apple': 5.50, 'orange':3.0, 'tomato': 4.13, 'banana':11, 'pepper': 2.4}\n",
    "print(samp)\n",
    "print(sorted(samp))"
   ]
  },
  {
   "cell_type": "code",
   "execution_count": null,
   "metadata": {},
   "outputs": [],
   "source": [
    "sorted_samp = sorted(samp.items(), key=lambda kv: kv[1], reverse=True)\n",
    "print(sorted_samp)\n",
    "\n",
    "\n",
    "for key, value in sorted_samp:\n",
    "    print(key, value)\n",
    "    \n"
   ]
  },
  {
   "cell_type": "markdown",
   "metadata": {},
   "source": [
    "7. Write a function that takes a list and returns a new list which removes the duplicates\n",
    "Extras:\n",
    "    • Write two different functions to do this - one using a loop and constructing a list, and another using sets."
   ]
  },
  {
   "cell_type": "code",
   "execution_count": null,
   "metadata": {},
   "outputs": [],
   "source": [
    "c_list = [-1, -1, -1, 3]\n",
    "def make_set(a):\n",
    "    u=[]\n",
    "    for aa in a :\n",
    "        if aa not in u:\n",
    "            u.append(aa)\n",
    "    return u\n",
    "\n",
    "#c_unique =[]\n",
    "#c_unique = [aa for aa in c_list if aa not in c_unique]\n",
    "#print(c_unique)\n",
    "\n",
    "print(make_set(c_list))\n",
    "\n",
    "# easy way  note that it changes the order\n",
    "c_set= set(c_list)\n",
    "print(c_set)\n",
    "\n"
   ]
  },
  {
   "cell_type": "markdown",
   "metadata": {},
   "source": [
    "8. write a lambda function which calculates mean of 3 values\n",
    "\t-test it. "
   ]
  },
  {
   "cell_type": "code",
   "execution_count": null,
   "metadata": {},
   "outputs": [],
   "source": [
    "mn = lambda a,b,c: (a+b+c)/3.0\n",
    "print(mn(3,5,10))"
   ]
  },
  {
   "cell_type": "markdown",
   "metadata": {},
   "source": [
    "9. See examples of “map, filter, reduce” \n",
    "\n",
    "items = [1, 2, 3, 4, 5]\n",
    "squared = list(map(lambda x: x**2, items))\n",
    "\n",
    "number_list = range(-5, 5)\n",
    "less_than_zero = list(filter(lambda x: x < 0, number_list))\n",
    "print(less_than_zero)\n",
    "\n",
    "from functools import reduce\n",
    "product = reduce((lambda x, y: x * y), [1, 2, 3, 4])\n",
    "\n",
    "a) create a list of 10 random integer tuples of three elements in range -10, 10.  \n",
    "Ex. [(1,2,4),(-1,0,5)..\n",
    "     \n",
    "b) print the tuple which has the greatest mean\n"
   ]
  },
  {
   "cell_type": "code",
   "execution_count": null,
   "metadata": {},
   "outputs": [],
   "source": [
    "items = [1, 2, 3, 4, 5]\n",
    "squared = list(map(lambda x: x**2, items))\n",
    "print(squared)\n",
    "\n",
    "number_list = range(-5, 5)\n",
    "print(list(number_list))\n",
    "less_than_zero = list(filter(lambda x: x < 0, number_list))\n",
    "print(less_than_zero)"
   ]
  },
  {
   "cell_type": "code",
   "execution_count": null,
   "metadata": {},
   "outputs": [],
   "source": [
    "import random\n",
    "a = random.sample(range(-10,10),10)\n",
    "b = random.sample(range(-10,10),10)\n",
    "c = random.sample(range(-10,10),10)\n",
    "[(a,b,c) for a,b,c in zip(a,b,c)]\n"
   ]
  },
  {
   "cell_type": "markdown",
   "metadata": {},
   "source": [
    "10. Create a csv (comma separated values) file of integer numbers\n",
    "Write the statements which load this file into a list. \n",
    "Print number of elements\n",
    "Print maximum, minimum value\n",
    "\n",
    "\n",
    "f = open(\"demofile.txt\", \"r\")\n",
    "print(f.read()) \n"
   ]
  },
  {
   "cell_type": "code",
   "execution_count": 11,
   "metadata": {},
   "outputs": [
    {
     "name": "stdout",
     "output_type": "stream",
     "text": [
      "23,4,5,6,2,1,16,7,8,9\n",
      "\n",
      "<class 'str'>\n"
     ]
    }
   ],
   "source": [
    "f = open(\"demo.txt\", \"r\") \n",
    "elements = f.read()\n",
    "print(elements) \n",
    "print(type(elements))\n",
    "\n",
    "f.close()\n",
    "file_ints = [ int(c) for c in elements.split(\",\")]"
   ]
  },
  {
   "cell_type": "code",
   "execution_count": 10,
   "metadata": {},
   "outputs": [
    {
     "data": {
      "text/plain": [
       "[23, 4, 5, 6, 2, 1, 16, 7, 8, 9]"
      ]
     },
     "execution_count": 10,
     "metadata": {},
     "output_type": "execute_result"
    }
   ],
   "source": []
  },
  {
   "cell_type": "code",
   "execution_count": null,
   "metadata": {},
   "outputs": [],
   "source": []
  }
 ],
 "metadata": {
  "kernelspec": {
   "display_name": "Python 3",
   "language": "python",
   "name": "python3"
  },
  "language_info": {
   "codemirror_mode": {
    "name": "ipython",
    "version": 3
   },
   "file_extension": ".py",
   "mimetype": "text/x-python",
   "name": "python",
   "nbconvert_exporter": "python",
   "pygments_lexer": "ipython3",
   "version": "3.7.2"
  }
 },
 "nbformat": 4,
 "nbformat_minor": 2
}
